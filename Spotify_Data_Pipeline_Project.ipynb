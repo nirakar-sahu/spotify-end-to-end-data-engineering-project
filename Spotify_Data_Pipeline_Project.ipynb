{
 "cells": [
  {
   "cell_type": "code",
   "execution_count": 1,
   "id": "f87fdc45",
   "metadata": {},
   "outputs": [],
   "source": [
    "import spotipy\n",
    "import pandas as pd\n",
    "from spotipy.oauth2 import SpotifyClientCredentials"
   ]
  },
  {
   "cell_type": "code",
   "execution_count": 2,
   "id": "a4797b84",
   "metadata": {},
   "outputs": [],
   "source": [
    "#This basically used for authentication\n",
    "client_credentials_manager = SpotifyClientCredentials(client_id=\"4e92c1bcd6ef4b439ae2c19ef5a8e1d5\",client_secret=\"8a79ce1fc89d4d26a7480d1596be6e6e\")"
   ]
  },
  {
   "cell_type": "code",
   "execution_count": 3,
   "id": "6730f3ad",
   "metadata": {},
   "outputs": [],
   "source": [
    "#This basically used for authorisation\n",
    "sp = spotipy.Spotify(client_credentials_manager = client_credentials_manager )"
   ]
  },
  {
   "cell_type": "code",
   "execution_count": 4,
   "id": "7f178bac",
   "metadata": {},
   "outputs": [],
   "source": [
    "playlist_link = \"https://open.spotify.com/playlist/37i9dQZEVXbLZ52XmnySJg\""
   ]
  },
  {
   "cell_type": "code",
   "execution_count": 5,
   "id": "358a837b",
   "metadata": {},
   "outputs": [
    {
     "data": {
      "text/plain": [
       "'37i9dQZEVXbLZ52XmnySJg'"
      ]
     },
     "execution_count": 5,
     "metadata": {},
     "output_type": "execute_result"
    }
   ],
   "source": [
    "playlist_url= playlist_link.split(\"/\")[-1]\n",
    "playlist_url"
   ]
  },
  {
   "cell_type": "code",
   "execution_count": 8,
   "id": "7439f56e",
   "metadata": {},
   "outputs": [],
   "source": [
    "data = sp.playlist_tracks(playlist_url)"
   ]
  },
  {
   "cell_type": "code",
   "execution_count": 9,
   "id": "5ec73c18",
   "metadata": {},
   "outputs": [
    {
     "data": {
      "text/plain": [
       "'2SarxpD48O1DOiDIccyZ0W'"
      ]
     },
     "execution_count": 9,
     "metadata": {},
     "output_type": "execute_result"
    }
   ],
   "source": [
    "data['items'][0]['track']['album']['id']"
   ]
  },
  {
   "cell_type": "code",
   "execution_count": 8,
   "id": "8ecf44a0",
   "metadata": {},
   "outputs": [
    {
     "data": {
      "text/plain": [
       "'Tu hai kahan'"
      ]
     },
     "execution_count": 8,
     "metadata": {},
     "output_type": "execute_result"
    }
   ],
   "source": [
    "data['items'][0]['track']['album']['name']"
   ]
  },
  {
   "cell_type": "code",
   "execution_count": 9,
   "id": "d386a55b",
   "metadata": {},
   "outputs": [
    {
     "data": {
      "text/plain": [
       "'https://open.spotify.com/album/73vfz6Szer7i3GFIesix6l'"
      ]
     },
     "execution_count": 9,
     "metadata": {},
     "output_type": "execute_result"
    }
   ],
   "source": [
    "data['items'][0]['track']['album']['external_urls']['spotify']"
   ]
  },
  {
   "cell_type": "code",
   "execution_count": 10,
   "id": "122c4834",
   "metadata": {},
   "outputs": [
    {
     "data": {
      "text/plain": [
       "'2023-10-16'"
      ]
     },
     "execution_count": 10,
     "metadata": {},
     "output_type": "execute_result"
    }
   ],
   "source": [
    "data['items'][0]['track']['album']['release_date']"
   ]
  },
  {
   "cell_type": "code",
   "execution_count": 11,
   "id": "972c6bc7",
   "metadata": {},
   "outputs": [
    {
     "data": {
      "text/plain": [
       "1"
      ]
     },
     "execution_count": 11,
     "metadata": {},
     "output_type": "execute_result"
    }
   ],
   "source": [
    "data['items'][0]['track']['album']['total_tracks']"
   ]
  },
  {
   "cell_type": "code",
   "execution_count": 12,
   "id": "6ebcc47b",
   "metadata": {},
   "outputs": [],
   "source": [
    "album_list=[]\n",
    "for row in data['items']:\n",
    "    album_id=row['track']['album']['id']\n",
    "    album_name=row['track']['album']['name']\n",
    "    album_ext_url=row['track']['album']['external_urls']['spotify']\n",
    "    album_rel_date=row['track']['album']['release_date']\n",
    "    album_tol_tracks=row['track']['album']['total_tracks']\n",
    "    album_element={'album_id':album_id,'album_name':album_name,'album_ext_url':album_ext_url,\n",
    "                   'album_rel_date':album_rel_date,'album_tol_tracks':album_tol_tracks}\n",
    "    album_list.append(album_element)"
   ]
  },
  {
   "cell_type": "code",
   "execution_count": 24,
   "id": "5b1b2b9b",
   "metadata": {},
   "outputs": [
    {
     "data": {
      "text/plain": [
       "[{'external_urls': {'spotify': 'https://open.spotify.com/artist/4YRxDV8wJFPHPTeXepOstw'},\n",
       "  'href': 'https://api.spotify.com/v1/artists/4YRxDV8wJFPHPTeXepOstw',\n",
       "  'id': '4YRxDV8wJFPHPTeXepOstw',\n",
       "  'name': 'Arijit Singh',\n",
       "  'type': 'artist',\n",
       "  'uri': 'spotify:artist:4YRxDV8wJFPHPTeXepOstw'},\n",
       " {'external_urls': {'spotify': 'https://open.spotify.com/artist/5o36rLQd78Zh8CaT8rn59d'},\n",
       "  'href': 'https://api.spotify.com/v1/artists/5o36rLQd78Zh8CaT8rn59d',\n",
       "  'id': '5o36rLQd78Zh8CaT8rn59d',\n",
       "  'name': 'Shreyas Puranik',\n",
       "  'type': 'artist',\n",
       "  'uri': 'spotify:artist:5o36rLQd78Zh8CaT8rn59d'},\n",
       " {'external_urls': {'spotify': 'https://open.spotify.com/artist/6k6TIai4KyKG1DeIMftSmJ'},\n",
       "  'href': 'https://api.spotify.com/v1/artists/6k6TIai4KyKG1DeIMftSmJ',\n",
       "  'id': '6k6TIai4KyKG1DeIMftSmJ',\n",
       "  'name': 'Siddharth - Garima',\n",
       "  'type': 'artist',\n",
       "  'uri': 'spotify:artist:6k6TIai4KyKG1DeIMftSmJ'}]"
      ]
     },
     "execution_count": 24,
     "metadata": {},
     "output_type": "execute_result"
    }
   ],
   "source": [
    "data['items'][2]['track']['artists']"
   ]
  },
  {
   "cell_type": "code",
   "execution_count": 21,
   "id": "8ba10c58",
   "metadata": {},
   "outputs": [],
   "source": [
    "artist_list=[]\n",
    "for row in data['items']:\n",
    "    for key, value in row.items(): ##we are interating through dictionary\n",
    "        if key == 'track':\n",
    "            for artist in value['artists']:\n",
    "                artist_element= {'artist_id':artist['id'] , 'artist_name':artist['name'] , 'artist_ext_uri':artist['href']}\n",
    "                artist_list.append(artist_element)"
   ]
  },
  {
   "cell_type": "code",
   "execution_count": 64,
   "id": "fdfbf7aa",
   "metadata": {},
   "outputs": [
    {
     "data": {
      "text/plain": [
       "'https://open.spotify.com/track/3zSSCPpLZ5Oc8nelhhGjKz'"
      ]
     },
     "execution_count": 64,
     "metadata": {},
     "output_type": "execute_result"
    }
   ],
   "source": [
    "data['items'][0]['track']['external_urls']['spotify']"
   ]
  },
  {
   "cell_type": "code",
   "execution_count": 66,
   "id": "c91fc601",
   "metadata": {},
   "outputs": [],
   "source": [
    "song_list=[]\n",
    "for row in data['items']:\n",
    "    song_id = row['track']['id']\n",
    "    song_name = row['track']['name']\n",
    "    song_duration_ms = row['track']['duration_ms']\n",
    "    song_popularity = row['track']['popularity']\n",
    "    song_url = row['track']['external_urls']['spotify']\n",
    "    song_added = row['added_at']\n",
    "    album_id = row['track']['album']['id']\n",
    "    album_name = row['track']['album']['name']\n",
    "    song_elements = {'song_id' : song_id, 'song_name' : song_name, 'song_duration_ms': song_duration_ms, 'song_popularity' : song_popularity ,\n",
    "                    'song_url' : song_url , 'song_added' : song_added , 'album_id' : album_id , 'album_name' : album_name }\n",
    "    song_list.append(song_elements)\n",
    "    "
   ]
  },
  {
   "cell_type": "code",
   "execution_count": 68,
   "id": "9a7a2f9c",
   "metadata": {},
   "outputs": [
    {
     "data": {
      "text/plain": [
       "{'song_id': '5PUXKVVVQ74C3gl5vKy9Li',\n",
       " 'song_name': 'Heeriye (feat. Arijit Singh)',\n",
       " 'song_duration_ms': 194857,\n",
       " 'song_popularity': 87,\n",
       " 'song_url': 'https://open.spotify.com/track/5PUXKVVVQ74C3gl5vKy9Li',\n",
       " 'song_added': '2023-12-02T08:49:06Z',\n",
       " 'album_id': '1wt2WZBZZ9GhM0AC61l7SS',\n",
       " 'album_name': 'Heeriye (feat. Arijit Singh)'}"
      ]
     },
     "execution_count": 68,
     "metadata": {},
     "output_type": "execute_result"
    }
   ],
   "source": [
    "song_list[5]"
   ]
  },
  {
   "cell_type": "code",
   "execution_count": 80,
   "id": "1828369f",
   "metadata": {},
   "outputs": [],
   "source": [
    "##creating dataframe\n",
    "album_df = pd.DataFrame.from_dict(album_list)\n",
    "album_df = album_df.drop_duplicates(subset=['album_id'])\n",
    "\n",
    "artist_df = pd.DataFrame.from_dict(artist_list)\n",
    "artist_df = artist_df.drop_duplicates(subset=['artist_id'])\n",
    "\n",
    "song_df = pd.DataFrame.from_dict(song_list)\n",
    "\n"
   ]
  },
  {
   "cell_type": "code",
   "execution_count": 89,
   "id": "c7ba5c3b",
   "metadata": {},
   "outputs": [
    {
     "data": {
      "text/html": [
       "<div>\n",
       "<style scoped>\n",
       "    .dataframe tbody tr th:only-of-type {\n",
       "        vertical-align: middle;\n",
       "    }\n",
       "\n",
       "    .dataframe tbody tr th {\n",
       "        vertical-align: top;\n",
       "    }\n",
       "\n",
       "    .dataframe thead th {\n",
       "        text-align: right;\n",
       "    }\n",
       "</style>\n",
       "<table border=\"1\" class=\"dataframe\">\n",
       "  <thead>\n",
       "    <tr style=\"text-align: right;\">\n",
       "      <th></th>\n",
       "      <th>song_id</th>\n",
       "      <th>song_name</th>\n",
       "      <th>song_duration_ms</th>\n",
       "      <th>song_popularity</th>\n",
       "      <th>song_url</th>\n",
       "      <th>song_added</th>\n",
       "      <th>album_id</th>\n",
       "      <th>album_name</th>\n",
       "    </tr>\n",
       "  </thead>\n",
       "  <tbody>\n",
       "    <tr>\n",
       "      <th>0</th>\n",
       "      <td>3zSSCPpLZ5Oc8nelhhGjKz</td>\n",
       "      <td>Tu hai kahan</td>\n",
       "      <td>263184</td>\n",
       "      <td>87</td>\n",
       "      <td>https://open.spotify.com/track/3zSSCPpLZ5Oc8ne...</td>\n",
       "      <td>2023-12-02T08:49:06Z</td>\n",
       "      <td>73vfz6Szer7i3GFIesix6l</td>\n",
       "      <td>Tu hai kahan</td>\n",
       "    </tr>\n",
       "    <tr>\n",
       "      <th>1</th>\n",
       "      <td>4ApCig0GTR4IEp7Ijsyo3r</td>\n",
       "      <td>Arjan Vailly</td>\n",
       "      <td>182170</td>\n",
       "      <td>66</td>\n",
       "      <td>https://open.spotify.com/track/4ApCig0GTR4IEp7...</td>\n",
       "      <td>2023-12-02T08:49:06Z</td>\n",
       "      <td>0a183xiCHiC1GQd8ou7WXO</td>\n",
       "      <td>ANIMAL</td>\n",
       "    </tr>\n",
       "    <tr>\n",
       "      <th>2</th>\n",
       "      <td>3xMHXmedL5Rvfxmiar9Ryv</td>\n",
       "      <td>Chaleya</td>\n",
       "      <td>200373</td>\n",
       "      <td>83</td>\n",
       "      <td>https://open.spotify.com/track/3xMHXmedL5Rvfxm...</td>\n",
       "      <td>2023-12-02T08:49:06Z</td>\n",
       "      <td>3WLJmMZUeDOuERFAk1Mxs6</td>\n",
       "      <td>Jawan</td>\n",
       "    </tr>\n",
       "    <tr>\n",
       "      <th>3</th>\n",
       "      <td>5ZLkihi6DVsHwDL3B8ym1t</td>\n",
       "      <td>One Love</td>\n",
       "      <td>159222</td>\n",
       "      <td>86</td>\n",
       "      <td>https://open.spotify.com/track/5ZLkihi6DVsHwDL...</td>\n",
       "      <td>2023-12-02T08:49:06Z</td>\n",
       "      <td>3tNH9Fp4dm3qa3Kr4cv5uJ</td>\n",
       "      <td>One Love</td>\n",
       "    </tr>\n",
       "    <tr>\n",
       "      <th>4</th>\n",
       "      <td>3yHyiUDJdz02FZ6jfUbsmY</td>\n",
       "      <td>Satranga (From \"ANIMAL\")</td>\n",
       "      <td>271169</td>\n",
       "      <td>81</td>\n",
       "      <td>https://open.spotify.com/track/3yHyiUDJdz02FZ6...</td>\n",
       "      <td>2023-12-02T08:49:06Z</td>\n",
       "      <td>5mZX4EMwEyohNmVfLTDtXn</td>\n",
       "      <td>Satranga (From \"ANIMAL\")</td>\n",
       "    </tr>\n",
       "  </tbody>\n",
       "</table>\n",
       "</div>"
      ],
      "text/plain": [
       "                  song_id                 song_name  song_duration_ms  \\\n",
       "0  3zSSCPpLZ5Oc8nelhhGjKz              Tu hai kahan            263184   \n",
       "1  4ApCig0GTR4IEp7Ijsyo3r              Arjan Vailly            182170   \n",
       "2  3xMHXmedL5Rvfxmiar9Ryv                   Chaleya            200373   \n",
       "3  5ZLkihi6DVsHwDL3B8ym1t                  One Love            159222   \n",
       "4  3yHyiUDJdz02FZ6jfUbsmY  Satranga (From \"ANIMAL\")            271169   \n",
       "\n",
       "   song_popularity                                           song_url  \\\n",
       "0               87  https://open.spotify.com/track/3zSSCPpLZ5Oc8ne...   \n",
       "1               66  https://open.spotify.com/track/4ApCig0GTR4IEp7...   \n",
       "2               83  https://open.spotify.com/track/3xMHXmedL5Rvfxm...   \n",
       "3               86  https://open.spotify.com/track/5ZLkihi6DVsHwDL...   \n",
       "4               81  https://open.spotify.com/track/3yHyiUDJdz02FZ6...   \n",
       "\n",
       "             song_added                album_id                album_name  \n",
       "0  2023-12-02T08:49:06Z  73vfz6Szer7i3GFIesix6l              Tu hai kahan  \n",
       "1  2023-12-02T08:49:06Z  0a183xiCHiC1GQd8ou7WXO                    ANIMAL  \n",
       "2  2023-12-02T08:49:06Z  3WLJmMZUeDOuERFAk1Mxs6                     Jawan  \n",
       "3  2023-12-02T08:49:06Z  3tNH9Fp4dm3qa3Kr4cv5uJ                  One Love  \n",
       "4  2023-12-02T08:49:06Z  5mZX4EMwEyohNmVfLTDtXn  Satranga (From \"ANIMAL\")  "
      ]
     },
     "execution_count": 89,
     "metadata": {},
     "output_type": "execute_result"
    }
   ],
   "source": [
    "song_df.head(5)"
   ]
  },
  {
   "cell_type": "code",
   "execution_count": 96,
   "id": "a5da0199",
   "metadata": {},
   "outputs": [],
   "source": [
    "album_df['album_rel_date'] = pd.to_datetime(album_df['album_rel_date'])\n",
    "song_df['song_added'] = pd.to_datetime(song_df['song_added'])"
   ]
  },
  {
   "cell_type": "code",
   "execution_count": 97,
   "id": "894fdb63",
   "metadata": {},
   "outputs": [
    {
     "name": "stdout",
     "output_type": "stream",
     "text": [
      "<class 'pandas.core.frame.DataFrame'>\n",
      "RangeIndex: 50 entries, 0 to 49\n",
      "Data columns (total 9 columns):\n",
      " #   Column            Non-Null Count  Dtype              \n",
      "---  ------            --------------  -----              \n",
      " 0   song_id           50 non-null     object             \n",
      " 1   song_name         50 non-null     object             \n",
      " 2   song_duration_ms  50 non-null     int64              \n",
      " 3   song_popularity   50 non-null     int64              \n",
      " 4   song_url          50 non-null     object             \n",
      " 5   song_added        50 non-null     datetime64[ns, UTC]\n",
      " 6   album_id          50 non-null     object             \n",
      " 7   album_name        50 non-null     object             \n",
      " 8   album_rel_date    50 non-null     datetime64[ns, UTC]\n",
      "dtypes: datetime64[ns, UTC](2), int64(2), object(5)\n",
      "memory usage: 3.6+ KB\n"
     ]
    }
   ],
   "source": [
    "song_df.info()"
   ]
  },
  {
   "cell_type": "code",
   "execution_count": 98,
   "id": "d4d9e49e",
   "metadata": {},
   "outputs": [
    {
     "data": {
      "text/html": [
       "<div>\n",
       "<style scoped>\n",
       "    .dataframe tbody tr th:only-of-type {\n",
       "        vertical-align: middle;\n",
       "    }\n",
       "\n",
       "    .dataframe tbody tr th {\n",
       "        vertical-align: top;\n",
       "    }\n",
       "\n",
       "    .dataframe thead th {\n",
       "        text-align: right;\n",
       "    }\n",
       "</style>\n",
       "<table border=\"1\" class=\"dataframe\">\n",
       "  <thead>\n",
       "    <tr style=\"text-align: right;\">\n",
       "      <th></th>\n",
       "      <th>song_id</th>\n",
       "      <th>song_name</th>\n",
       "      <th>song_duration_ms</th>\n",
       "      <th>song_popularity</th>\n",
       "      <th>song_url</th>\n",
       "      <th>song_added</th>\n",
       "      <th>album_id</th>\n",
       "      <th>album_name</th>\n",
       "      <th>album_rel_date</th>\n",
       "    </tr>\n",
       "  </thead>\n",
       "  <tbody>\n",
       "    <tr>\n",
       "      <th>0</th>\n",
       "      <td>3zSSCPpLZ5Oc8nelhhGjKz</td>\n",
       "      <td>Tu hai kahan</td>\n",
       "      <td>263184</td>\n",
       "      <td>87</td>\n",
       "      <td>https://open.spotify.com/track/3zSSCPpLZ5Oc8ne...</td>\n",
       "      <td>2023-12-02 08:49:06+00:00</td>\n",
       "      <td>73vfz6Szer7i3GFIesix6l</td>\n",
       "      <td>Tu hai kahan</td>\n",
       "      <td>2023-12-02 08:49:06+00:00</td>\n",
       "    </tr>\n",
       "    <tr>\n",
       "      <th>1</th>\n",
       "      <td>4ApCig0GTR4IEp7Ijsyo3r</td>\n",
       "      <td>Arjan Vailly</td>\n",
       "      <td>182170</td>\n",
       "      <td>66</td>\n",
       "      <td>https://open.spotify.com/track/4ApCig0GTR4IEp7...</td>\n",
       "      <td>2023-12-02 08:49:06+00:00</td>\n",
       "      <td>0a183xiCHiC1GQd8ou7WXO</td>\n",
       "      <td>ANIMAL</td>\n",
       "      <td>2023-12-02 08:49:06+00:00</td>\n",
       "    </tr>\n",
       "    <tr>\n",
       "      <th>2</th>\n",
       "      <td>3xMHXmedL5Rvfxmiar9Ryv</td>\n",
       "      <td>Chaleya</td>\n",
       "      <td>200373</td>\n",
       "      <td>83</td>\n",
       "      <td>https://open.spotify.com/track/3xMHXmedL5Rvfxm...</td>\n",
       "      <td>2023-12-02 08:49:06+00:00</td>\n",
       "      <td>3WLJmMZUeDOuERFAk1Mxs6</td>\n",
       "      <td>Jawan</td>\n",
       "      <td>2023-12-02 08:49:06+00:00</td>\n",
       "    </tr>\n",
       "    <tr>\n",
       "      <th>3</th>\n",
       "      <td>5ZLkihi6DVsHwDL3B8ym1t</td>\n",
       "      <td>One Love</td>\n",
       "      <td>159222</td>\n",
       "      <td>86</td>\n",
       "      <td>https://open.spotify.com/track/5ZLkihi6DVsHwDL...</td>\n",
       "      <td>2023-12-02 08:49:06+00:00</td>\n",
       "      <td>3tNH9Fp4dm3qa3Kr4cv5uJ</td>\n",
       "      <td>One Love</td>\n",
       "      <td>2023-12-02 08:49:06+00:00</td>\n",
       "    </tr>\n",
       "    <tr>\n",
       "      <th>4</th>\n",
       "      <td>3yHyiUDJdz02FZ6jfUbsmY</td>\n",
       "      <td>Satranga (From \"ANIMAL\")</td>\n",
       "      <td>271169</td>\n",
       "      <td>81</td>\n",
       "      <td>https://open.spotify.com/track/3yHyiUDJdz02FZ6...</td>\n",
       "      <td>2023-12-02 08:49:06+00:00</td>\n",
       "      <td>5mZX4EMwEyohNmVfLTDtXn</td>\n",
       "      <td>Satranga (From \"ANIMAL\")</td>\n",
       "      <td>2023-12-02 08:49:06+00:00</td>\n",
       "    </tr>\n",
       "  </tbody>\n",
       "</table>\n",
       "</div>"
      ],
      "text/plain": [
       "                  song_id                 song_name  song_duration_ms  \\\n",
       "0  3zSSCPpLZ5Oc8nelhhGjKz              Tu hai kahan            263184   \n",
       "1  4ApCig0GTR4IEp7Ijsyo3r              Arjan Vailly            182170   \n",
       "2  3xMHXmedL5Rvfxmiar9Ryv                   Chaleya            200373   \n",
       "3  5ZLkihi6DVsHwDL3B8ym1t                  One Love            159222   \n",
       "4  3yHyiUDJdz02FZ6jfUbsmY  Satranga (From \"ANIMAL\")            271169   \n",
       "\n",
       "   song_popularity                                           song_url  \\\n",
       "0               87  https://open.spotify.com/track/3zSSCPpLZ5Oc8ne...   \n",
       "1               66  https://open.spotify.com/track/4ApCig0GTR4IEp7...   \n",
       "2               83  https://open.spotify.com/track/3xMHXmedL5Rvfxm...   \n",
       "3               86  https://open.spotify.com/track/5ZLkihi6DVsHwDL...   \n",
       "4               81  https://open.spotify.com/track/3yHyiUDJdz02FZ6...   \n",
       "\n",
       "                 song_added                album_id                album_name  \\\n",
       "0 2023-12-02 08:49:06+00:00  73vfz6Szer7i3GFIesix6l              Tu hai kahan   \n",
       "1 2023-12-02 08:49:06+00:00  0a183xiCHiC1GQd8ou7WXO                    ANIMAL   \n",
       "2 2023-12-02 08:49:06+00:00  3WLJmMZUeDOuERFAk1Mxs6                     Jawan   \n",
       "3 2023-12-02 08:49:06+00:00  3tNH9Fp4dm3qa3Kr4cv5uJ                  One Love   \n",
       "4 2023-12-02 08:49:06+00:00  5mZX4EMwEyohNmVfLTDtXn  Satranga (From \"ANIMAL\")   \n",
       "\n",
       "             album_rel_date  \n",
       "0 2023-12-02 08:49:06+00:00  \n",
       "1 2023-12-02 08:49:06+00:00  \n",
       "2 2023-12-02 08:49:06+00:00  \n",
       "3 2023-12-02 08:49:06+00:00  \n",
       "4 2023-12-02 08:49:06+00:00  "
      ]
     },
     "execution_count": 98,
     "metadata": {},
     "output_type": "execute_result"
    }
   ],
   "source": [
    "song_df.head(5)"
   ]
  },
  {
   "cell_type": "code",
   "execution_count": null,
   "id": "5355ae39",
   "metadata": {},
   "outputs": [],
   "source": []
  }
 ],
 "metadata": {
  "kernelspec": {
   "display_name": "Python 3 (ipykernel)",
   "language": "python",
   "name": "python3"
  },
  "language_info": {
   "codemirror_mode": {
    "name": "ipython",
    "version": 3
   },
   "file_extension": ".py",
   "mimetype": "text/x-python",
   "name": "python",
   "nbconvert_exporter": "python",
   "pygments_lexer": "ipython3",
   "version": "3.7.0"
  }
 },
 "nbformat": 4,
 "nbformat_minor": 5
}
